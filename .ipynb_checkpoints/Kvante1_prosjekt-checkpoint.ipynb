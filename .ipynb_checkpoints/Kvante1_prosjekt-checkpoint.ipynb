{
 "cells": [
  {
   "cell_type": "code",
   "execution_count": null,
   "metadata": {},
   "outputs": [],
   "source": [
    "import numpy as np\n",
    "from matplotlib import pyplot as plt\n",
    "import scipy.integrate\n",
    "import scipy.sparse as sp\n",
    "from IPython.display import HTML\n",
    "import matplotlib.animation as animation "
   ]
  },
  {
   "cell_type": "markdown",
   "metadata": {},
   "source": [
    "## Time evolution of gaussian wave packets - Numerical excercise FY2045\n",
    "Hans Gløckner and Eirik Høydalsvik "
   ]
  },
  {
   "cell_type": "code",
   "execution_count": null,
   "metadata": {},
   "outputs": [],
   "source": [
    "#constants\n",
    "hbar, m = 1, 1\n",
    "k0, L = 20, 20\n",
    "x0 = 5\n",
    "E = (hbar * k0) ** 2 / 2 / m\n",
    "omega = E / hbar\n",
    "\n",
    "def psi_I_anal(x,x0,sigmax, t):\n",
    "    return np.exp(-(x - x0)**2 / (2 * sigmax**2)) * np.sin(k0 * x - omega * t)\n",
    "                  \n",
    "def psi_R_anal(x,x0,sigmax, t):\n",
    "    return np.exp(-(x - x0)**2 / (2 * sigmax **2)) * np.cos(k0 * x - omega * t)\n",
    "\n",
    "def make_dt_n(V, alpha):\n",
    "    dt = alpha * hbar / ((hbar**2/(2 * m))*((Nx_2-1)/L)**2 + np.amax(V))\n",
    "    return dt,int(L/ 2 * m / (hbar * k0 * dt))  \n",
    "\n",
    "#returns initial condition for psi_I and psi_R\n",
    "def make_psi_init(x0,sigmax,Nx,dt,L):\n",
    "    x = np.linspace(0, L, Nx)\n",
    "    C = psi_R_anal(x,x0,sigmax,0) @ psi_R_anal(x,x0,sigmax,0) + psi_I_anal(x,x0,sigmax,0) @ psi_I_anal(x,x0,sigmax,0)\n",
    "    psi_R_init = psi_R_anal(x,x0,sigmax, 0) / np.sqrt(C)\n",
    "    psi_I_init = psi_I_anal(x,x0,sigmax, -dt/2) / np.sqrt(C)\n",
    "    return x, psi_R_init, psi_I_init"
   ]
  },
  {
   "cell_type": "code",
   "execution_count": null,
   "metadata": {},
   "outputs": [],
   "source": [
    "#Time evolves psi_R and psi_I for n time steps with step length dt\n",
    "def timeEvolve(psi_R,psi_I,n,V,dt):\n",
    "    Nx = len(V)\n",
    "    dx = L / (Nx-1)\n",
    "    \n",
    "    D1 = V / hbar + hbar / (m * dx**2) * np.ones(Nx) \n",
    "    D2 = - hbar / (2 * m * dx**2) *  np.ones(Nx-1) \n",
    "    H = sp.diags([D2, D1 ,D2],[-1,0,1])\n",
    "    for i in range(1,n):\n",
    "        psi_I = psi_I - dt * H.dot(psi_R)\n",
    "        psi_R = psi_R + dt * H.dot(psi_I)\n",
    "    return psi_R,psi_I\n",
    "\n",
    "\n",
    "#plots initial and evolved verison of psi_I and psi_R\n",
    "def plot_wave(x0,sigmax,dt,L,n,V,title,plot_square = False,plot_potential = False):\n",
    "    Nx = len(V)\n",
    "    x , psi_R_init, psi_I_init = make_psi_init(x0,sigmax,Nx,dt,L)\n",
    "    psi_R, psi_I = timeEvolve(psi_R_init,psi_I_init,n,V,dt)\n",
    "    fig, (ax1, ax2) = plt.subplots(1, 2)\n",
    "    fig.set_size_inches(20,5)\n",
    "    fig.suptitle(title,y = 0)\n",
    "    ax1.set_xlabel(\"x\")\n",
    "    ax2.set_xlabel(\"x\")\n",
    "    if plot_potential:\n",
    "        ax1_2 = ax1.twinx() \n",
    "        ax1_2.plot(x, V, color = \"tab:red\",label = \"V(x)\")\n",
    "        ax1_2.set(ylim = (-150,150))   \n",
    "        ax2_2 = ax2.twinx()\n",
    "        ax2_2.plot(x, V, color = \"tab:red\",label = \"V(x)\")\n",
    "        ax2_2.set(ylim = (-150,150))\n",
    "        ax1_2.legend(loc=\"upper right\", prop={'size': 15})\n",
    "        ax2_2.legend(loc =\"upper right\", prop={'size': 15})\n",
    "        ax1_2.set_ylabel(\"V(x)\")\n",
    "        ax2_2.set_ylabel(\"V(x)\")\n",
    "    if plot_square:\n",
    "        ax1.plot(x,psi_R_init**2 + psi_I_init**2,color = \"tab:blue\",label = \"probabilty density\")\n",
    "        ax2.plot(x,psi_R**2 + psi_I**2,color = \"tab:blue\",label = \"probabilty density\")\n",
    "        ax1.set_ylabel(\"$|\\psi(x,t)|^2$\")\n",
    "        ax2.set_ylabel(\"$|\\psi(x,t)|^2$\")\n",
    "    else:\n",
    "        ax1.plot(x,psi_R_init, label = \"$\\psi_R(x,t)$\")\n",
    "        ax1.plot(x,psi_I_init,label = \"$\\psi_I(x,t)$\")\n",
    "        ax2.plot(x,psi_R,label = \"$\\psi_R(x,t)$\")\n",
    "        ax2.plot(x,psi_I,label = \"$\\psi_I(x,t)$\")\n",
    "        ax1.set_ylabel(\"$\\psi(x,t)$\")\n",
    "        ax2.set_ylabel(\"$\\psi(x,t)$\")\n",
    "    ax1.legend(loc = \"upper left\", prop={'size': 15})\n",
    "    ax2.legend(loc = \"upper left\", prop={'size': 15})\n",
    "    plt.tight_layout()\n",
    "    plt.show()"
   ]
  },
  {
   "cell_type": "markdown",
   "metadata": {},
   "source": [
    "## Excercise 2\n",
    "By testing various time steps it was found that $\\varDelta T = 0.5 \\cdot \\varDelta T_0 $ with $\\varDelta T_0 := \\frac{\\hbar}{\\frac{\\hbar^2}{2m} \\frac{1}{\\varDelta X^2} + V_{max}}$ gave satisfactory numerical stability.\n",
    "\n",
    "The group velocity can be calculated using the relation $v_g = \\frac{\\partial \\omega}{\\partial k} \\rvert_{k_0}$ giving the result $v_g = \\frac{\\hbar k_0}{m}$. By propagating the wave for a time $\\frac{l}{v_g}$ the wave packet will move a distance l. Figure 1 and figure 2 show the wave packet after propagating a distance $l = 10$ from the start position $x_0 = 5$ for the values $\\sigma = 0.5$ and $\\sigma = 1.5$. The wave packet with initial $\\sigma = 1.5$ has a larger spread than the wave with inital $\\sigma = 0.5$. The spread is not as large as for the initial condition, ilustrating the fact that waves with a narrower probability density spread faster. "
   ]
  },
  {
   "cell_type": "code",
   "execution_count": null,
   "metadata": {},
   "outputs": [],
   "source": [
    "Nx_2 =1000\n",
    "V_2 = np.zeros(Nx_2)\n",
    "dt_2, n_2 = make_dt_n(V_2, 0.5)\n",
    "\n",
    "sigmax_2 = 0.5\n",
    "plot_wave(x0,sigmax_2,dt_2,L,n_2,V_2,\"figure 1\",False,False)\n",
    "\n",
    "sigmax_2 = 1.5\n",
    "plot_wave(x0,sigmax_2,dt_2,L,n_2,V_2,\"figure 2\",False,False)"
   ]
  },
  {
   "cell_type": "code",
   "execution_count": null,
   "metadata": {},
   "outputs": [],
   "source": [
    "def calculate_prob(psi_R, psi_I, L,  Nx):\n",
    "    P_left = psi_R[:int(Nx / 2)] @ psi_R[:int(Nx / 2)] + psi_I[:int(Nx / 2)] @ psi_I[:int(Nx / 2)] \n",
    "    P_right= psi_R[int(Nx / 2):] @ psi_R[int(Nx / 2):] + psi_I[int(Nx / 2):] @ psi_I[int(Nx / 2):]\n",
    "    return P_left, P_right\n",
    "\n",
    "def make_potential(Nx, L, l, b):\n",
    "    k = int(l / L * Nx)\n",
    "    V = np.zeros(Nx)\n",
    "    V_temp = np.ones(k) * b\n",
    "    V[int(Nx / 2) - int(k / 2): int(Nx / 2) - int(k / 2) + k ] = V_temp\n",
    "    \n",
    "    return V"
   ]
  },
  {
   "cell_type": "markdown",
   "metadata": {},
   "source": [
    "## Exercise 3\n",
    "Figure 3 shows the initial wave packet to the left and the propagated wave packet after a time $T = XX$ to the right. After propagation, the wave is partially transmitted and partially reflected. For the spesific wave packet in the figure, the probability is XX for it to be measured to the left and YY to the right of the barrier.   "
   ]
  },
  {
   "cell_type": "code",
   "execution_count": null,
   "metadata": {},
   "outputs": [],
   "source": [
    "##Barrier, exercise 3\n",
    "l_3 = L / 50 #width of potential\n",
    "b_3 = E / 2.0 #height of potential\n",
    "Nx_3 = 1000\n",
    "V_3 = make_potential(Nx_3, L, l_3, b_3)\n",
    "dt_3, n_3 = make_dt_n(V_3, 0.5)\n",
    "sigmax_3 = 1\n",
    "\n",
    "plot_wave(x0,sigmax_3,dt_3,L,n_3,V_3,\"figure 3\",False,True)\n",
    "\n",
    "\n",
    "x, psi_R_init_3, psi_I_init_3 = make_psi_init(x0,sigmax_3,Nx_3,dt_3,L)\n",
    "psi_R_3, psi_I_3 = timeEvolve(psi_R_init_3, psi_I_init_3, n_3, V_3, dt_3)\n",
    "P_left, P_right = calculate_prob(psi_R_3, psi_I_3, L, Nx_3)\n",
    "print(\"Reflection probability: \", round( P_left, 4), \"\\nTransmission probability\", round(P_right,4))"
   ]
  },
  {
   "cell_type": "markdown",
   "metadata": {},
   "source": [
    "## Exercise 4\n",
    "A plot of the reflection probability as a function of $  V_0 / E $ is shown to the left in figure XX. The transmission probability  is shown to the right in the figure. "
   ]
  },
  {
   "cell_type": "code",
   "execution_count": null,
   "metadata": {},
   "outputs": [],
   "source": [
    "Nx_4 = 1000\n",
    "L = 20\n",
    "l = L / 50\n",
    "b = E / 2.0\n",
    "sigmax = 1\n",
    "\n",
    "def transmission_graph(V_arr, x, sigmax, L, Nx):\n",
    "    P_left = np.zeros(len(VArr))\n",
    "    P_right = np.zeros(len(VArr))\n",
    "    for i in range(len(VArr)):\n",
    "        dt_4, n_4 = make_dt_n(V_arr[i], 0.1)\n",
    "        x, psi_R_init, psi_I_init = make_psi_init(x, sigmax, Nx, dt_4, L)\n",
    "        psi_R, psi_I = timeEvolve(psi_R_init, psi_I_init, n_4, V_arr[i], dt_4)\n",
    "        P_left[i], P_right[i] = calculate_prob(psi_R, psi_I, L, Nx)\n",
    "    return P_left, P_right\n",
    "\n",
    "def makePotentials(Nx):\n",
    "    num = 50 # number of points\n",
    "    pot_values = np.linspace(0, 3 / 2 * E, num)\n",
    "    V_arr = np.zeros((num, Nx)) #array of potentials\n",
    "    for i in range(num):\n",
    "        V_arr[i] = make_potential(Nx, L, l, pot_values[i])\n",
    "    return V_arr, pot_values\n",
    "\n",
    "VArr, pot_values = makePotentials(Nx_4)\n",
    "\n",
    "P_left_arr, P_right_arr = transmission_graph(VArr, x, sigmax, L, Nx_4)\n",
    "\n",
    "plt.plot(pot_values / E, P_right_arr)\n",
    "plt.show()\n",
    "\n",
    "plt.show()\n",
    "plt.plot(  pot_values / E , P_left_arr)\n",
    "plt.show()\n"
   ]
  },
  {
   "cell_type": "markdown",
   "metadata": {},
   "source": [
    "## Exercise 5\n",
    "A plot of the reflection probability as a function of the barrier width $l$ is shown to the left in figure XX. The transmission probability  is shown to the right in the figure. "
   ]
  },
  {
   "cell_type": "code",
   "execution_count": null,
   "metadata": {},
   "outputs": [],
   "source": [
    "b_5 = 9 / 10 * E\n",
    "Nx_5 = 2000\n",
    "dt_5, n_5 = make_dt_n(Nx_5, 0.5)\n",
    "sigmax_5 = 1\n",
    "l_arr = np.linspace(0, L / 20, 50) #different widths \n",
    "\n",
    "def transmission_graph_width(sigmax, Nx, l_arr, b):\n",
    "    #V_5 = make_potential(Nx, L, l_arr[0], b)\n",
    "    \n",
    "    V_5 = make_potential(Nx, L, l_arr[0], b)\n",
    "    dt_5, n_5 = make_dt_n(V_5, 0.1)\n",
    "    \n",
    "    x, psi_R_init, psi_I_init = make_psi_init(x0, sigmax, Nx, dt_5, L)\n",
    "    P_left = np.zeros(len(l_arr))\n",
    "    P_right= np.zeros(len(l_arr))\n",
    "    for i in range(len(l_arr)):\n",
    "        V_5 = make_potential(Nx, L, l_arr[i], b)\n",
    "        #V_5 = make_potential(Nx, L, L/ 50, b)\n",
    "        psi_R, psi_I = timeEvolve(psi_R_init, psi_I_init, n_5, V_5, dt_5)\n",
    "        P_left[i], P_right[i] = calculate_prob(psi_R, psi_I, L, Nx)\n",
    "    return P_left, P_right\n",
    "\n",
    "P_left, P_right = transmission_graph_width(sigmax_5, Nx_5, l_arr, b_5)\n",
    "plt.plot(l_arr, P_right)\n",
    "plt.show()\n",
    "plt.plot(l_arr, P_left)\n",
    "plt.show()\n"
   ]
  },
  {
   "cell_type": "code",
   "execution_count": null,
   "metadata": {},
   "outputs": [],
   "source": []
  }
 ],
 "metadata": {
  "kernelspec": {
   "display_name": "Python 3",
   "language": "python",
   "name": "python3"
  },
  "language_info": {
   "codemirror_mode": {
    "name": "ipython",
    "version": 3
   },
   "file_extension": ".py",
   "mimetype": "text/x-python",
   "name": "python",
   "nbconvert_exporter": "python",
   "pygments_lexer": "ipython3",
   "version": "3.7.1"
  }
 },
 "nbformat": 4,
 "nbformat_minor": 2
}
