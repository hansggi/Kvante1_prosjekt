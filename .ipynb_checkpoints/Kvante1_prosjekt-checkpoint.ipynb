{
 "cells": [
  {
   "cell_type": "code",
   "execution_count": null,
   "metadata": {},
   "outputs": [],
   "source": [
    "import numpy as np\n",
<<<<<<< HEAD
    "import matplotlib.pyplot as plt\n",
    "from scipy.sparse import diags"
=======
    "from matplotlib import pyplot as plt\n",
    "import scipy.integrate"
>>>>>>> 7a7a0f6cca15d08f37a4a84964cde659c11311cd
   ]
  },
  {
   "cell_type": "code",
   "execution_count": null,
   "metadata": {},
   "outputs": [],
<<<<<<< HEAD
   "source": []
  },
  {
   "cell_type": "code",
   "execution_count": null,
   "metadata": {},
   "outputs": [],
   "source": [
    "V = np.zeros(n)\n",
    "def timeEvolve(psiInit,psiInit,n,V,dt):\n",
    "    D1 = 2 * np.ones(n)\n",
    "    D2 = np.ones(n-1)\n",
    "    A = np.diag(V) + diags([D2,D1,D2],[-1,0,1]).toarray()\n"
=======
   "source": [
    "#constants\n",
    "hbar, m = 1, 1\n",
    "k0, L = 20, 20\n",
    "Nx = 1000 # number of x-values\n",
    "dx = L / (Nx - 1)\n",
    "sigmax = 1\n",
    "x0 = 0\n",
    "\n",
    "#Find values \n",
    "dt = 1\n",
    "E = (hbar * k0) ** 2 / 2 / m\n",
    "omega = E / hbar\n",
    "\n",
    "\n",
    "def psiI(x, t):\n",
    "    return np.exp((x - x0)*2) * np.sin(k0 * x - omega * t)\n",
    "def psiR(x,t):\n",
    "    return np.exp((x - x0)*2) * np.cos(k0 * x - omega * t)\n",
    "\n",
    "x = np.linspace(0, L, Nx)\n",
    "psiI = psiI(x, dt / 2)\n",
    "psiR = psiR(x, 0)\n",
    "\n",
    "#\n",
    "f = lambda x: x**2\n",
    "print(scipy.integrate.quad(f, 0, 1))\n",
    "#\n",
    "\n",
    "\n"
>>>>>>> 7a7a0f6cca15d08f37a4a84964cde659c11311cd
   ]
  }
 ],
 "metadata": {
  "kernelspec": {
   "display_name": "Python 3",
   "language": "python",
   "name": "python3"
  },
  "language_info": {
   "codemirror_mode": {
    "name": "ipython",
    "version": 3
   },
   "file_extension": ".py",
   "mimetype": "text/x-python",
   "name": "python",
   "nbconvert_exporter": "python",
   "pygments_lexer": "ipython3",
   "version": "3.7.1"
  }
 },
 "nbformat": 4,
 "nbformat_minor": 2
}
