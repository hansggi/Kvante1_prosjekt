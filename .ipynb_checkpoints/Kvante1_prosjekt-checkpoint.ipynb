{
 "cells": [
  {
   "cell_type": "code",
   "execution_count": null,
   "metadata": {},
   "outputs": [],
   "source": [
    "import numpy as np\n",
    "from matplotlib import pyplot as plt\n",
    "import scipy.integrate\n",
    "import scipy.sparse as sp"
   ]
  },
  {
   "cell_type": "code",
   "execution_count": null,
   "metadata": {},
   "outputs": [],
   "source": [
    "#constants\n",
    "hbar, m = 1, 1\n",
    "k0, L = 20, 20\n",
    "E = (hbar * k0) ** 2 / 2 / m\n",
    "omega = E / hbar\n",
    "\n",
    "\n",
    "def psi_I_anal(x, t):\n",
    "    return np.exp(-(x - x0)**2 / (2 * sigmax**2)) * np.sin(k0 * x - omega * t)\n",
    "                  \n",
    "def psi_R_anal(x,t):\n",
    "    return np.exp(-(x - x0)**2 / (2 * sigmax **2)) * np.cos(k0 * x - omega * t)\n",
    "\n",
    "\n",
    "def make_psi_init(x0,sigmax,Nx,dt,L):\n",
    "    x = np.linspace(0, L, Nx)\n",
    "    C = psi_R_anal(x,0) @ psi_R_anal(x,0) + psi_I_anal(x,0) @ psi_I_anal(x,0)\n",
    "    psi_R_init = psi_R_anal(x, 0) / np.sqrt(C)\n",
    "    psi_I_init = psi_I_anal(x, -dt/2) / np.sqrt(C)\n",
    "    return x , psi_R_init, psi_I_init"
   ]
  },
  {
   "cell_type": "code",
   "execution_count": null,
   "metadata": {},
   "outputs": [],
   "source": [
    "def timeEvolve(psi_R,psi_I,n,V,dt):\n",
    "    Nx = len(V)\n",
    "    dx = L / (Nx-1)\n",
    "    \n",
    "    D1 = V / hbar + hbar / (m * dx**2) * np.ones(Nx) \n",
    "    D2 = - hbar / (2 * m * dx**2) *  np.ones(Nx-1) \n",
    "    H = sp.diags([D2, D1 ,D2],[-1,0,1])\n",
    "    for i in range(1,n):\n",
    "        psi_I = psi_I - dt * H.dot(psi_R)\n",
    "        psi_R = psi_R + dt * H.dot(psi_I)\n",
    "    return psi_R,psi_I\n",
    "\n",
    "        "
   ]
  },
  {
   "cell_type": "code",
   "execution_count": null,
   "metadata": {},
   "outputs": [],
   "source": [
    "x0 = 5\n",
    "sigmax = 1\n",
    "Nx = 2000\n",
    "V = np.zeros(Nx)\n",
    "v_g = hbar * k0 / m\n",
    "dt_2 = 0.0001\n",
    "n_2 = int(L/ 2 * m / (hbar * k0 * dt_2))\n",
    "    \n",
    "x, psi_R_init,psi_I_init = make_psi_init(x0,sigmax,Nx,dt_2,L)\n",
    "#x, psi_R_init, psi_I_init = make_psi_init(x0, sigmax, Nx, dt_2, L)\n",
    "psi_R , psi_I = timeEvolve(psi_R_init,psi_I_init,n_2,V,dt_2)\n",
    "plt.plot(x,psi_R)\n",
    "plt.show()"
   ]
  },
  {
   "cell_type": "code",
   "execution_count": null,
   "metadata": {},
   "outputs": [],
   "source": [
    "def plot_barrier(x, psi_init, psi_final, V):\n",
    "    fig, (ax1, ax2) = plt.subplots(1, 2)\n",
    "    fig.set_size_inches(20, 8)\n",
    "    \n",
    "    ax1_2 = ax1.twinx()                           \n",
    "    l1, = ax1.plot(x, V, color = \"tab:red\")\n",
    "    l1_2, = ax1_2.plot(x, psi_init)                       \n",
    "    \n",
    "    ax2_2 = ax2.twinx()\n",
    "    l2, = ax2.plot(x, V, color = \"tab:red\")                               \n",
    "    l2_2, = ax2_2.plot(x, psi_final)                "
   ]
  },
  {
   "cell_type": "code",
   "execution_count": null,
   "metadata": {},
   "outputs": [],
   "source": [
    "##Barrier, exercise 3\n",
    "n = 100\n",
    "L = 20\n",
    "l = L / 50\n",
    "b = E / 2.0\n",
    "dt = 0.001\n",
    "\n",
    "Vb = np.zeros(Nx)\n",
    "Vk = np.ones(int(l / L * Nx)) * b\n",
    "Vb[int(Nx/2 - l * Nx / L /  2): int(Nx/2 + l * Nx / L /  2) ] = Vk\n",
    "\n",
    "\n",
    "x, psi_R_init, psi_I_init = make_psi_init(x0, sigmax, Nx, dt, L)\n",
    "\n",
    "psi_R_b,psi_I_b = timeEvolve(psi_R_init, psi_I_init, n, V, dt)\n",
    "\n",
    "\n",
    "plot_barrier(x, psi_R_init, psi_R_b, V)"
   ]
  }
 ],
 "metadata": {
  "kernelspec": {
   "display_name": "Python 3",
   "language": "python",
   "name": "python3"
  },
  "language_info": {
   "codemirror_mode": {
    "name": "ipython",
    "version": 3
   },
   "file_extension": ".py",
   "mimetype": "text/x-python",
   "name": "python",
   "nbconvert_exporter": "python",
   "pygments_lexer": "ipython3",
   "version": "3.7.1"
  }
 },
 "nbformat": 4,
 "nbformat_minor": 2
}
