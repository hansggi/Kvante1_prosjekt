{
 "cells": [
  {
   "cell_type": "code",
   "execution_count": null,
   "metadata": {},
   "outputs": [],
   "source": [
    "import numpy as np\n",
    "from matplotlib import pyplot as plt\n",
    "import scipy.integrate\n",
    "import scipy.sparse as sp"
   ]
  },
  {
   "cell_type": "code",
   "execution_count": null,
   "metadata": {},
   "outputs": [],
   "source": [
    "#constants\n",
    "hbar, m = 1, 1\n",
    "k0, L = 20, 20\n",
    "E = (hbar * k0) ** 2 / 2 / m\n",
    "omega = E / hbar\n",
    "\n",
    "\n",
    "def psi_I(x, t):\n",
    "    return np.exp(-(x - x0)**2 / (2 * sigmax**2)) * np.sin(k0 * x - omega * t)\n",
    "                  \n",
    "def psi_R(x,t):\n",
    "    return np.exp(-(x - x0)**2 / (2 * sigmax **2)) * np.cos(k0 * x - omega * t)\n",
    "\n",
    "\n",
    "def make_psi_init(x0,sigmax,Nx,dt,L):\n",
    "    x = np.linspace(0, L, Nx)\n",
    "    C = psi_R(x,0) @ psi_R(x,0) + psi_I(x,0) @ psi_I(x,0)\n",
    "    psi_R_init = psi_R(x, 0) / np.sqrt(C)\n",
    "    psi_I_init = psi_I(x, -dt/2) / np.sqrt(C)\n",
    "    return x , psi_R_init, psi_I_init"
   ]
  },
  {
   "cell_type": "code",
   "execution_count": null,
   "metadata": {},
   "outputs": [],
   "source": [
    "def timeEvolve(psi_R,psi_I,n,V,dt):\n",
    "    Nx = len(V)\n",
    "    dx = L / (Nx-1)\n",
    "    \n",
    "    D1 = V / hbar + hbar / (m * dx**2) * np.ones(Nx) \n",
    "    D2 = - hbar / (2 * m * dx**2) *  np.ones(Nx-1) \n",
    "    H = sp.diags([D2, D1 ,D2],[-1,0,1])\n",
    "    for i in range(1,n):\n",
    "        psi_I = psi_I - dt * H.dot(psi_R)\n",
    "        psi_R = psi_R + dt * H.dot(psi_I)\n",
    "    return psi_R,psi_I\n",
    "\n",
    "        "
   ]
  },
  {
   "cell_type": "code",
   "execution_count": null,
   "metadata": {},
   "outputs": [],
   "source": [
    "x0 = 5\n",
    "sigmax = 1\n",
    "Nx = 2000\n",
    "V = np.zeros(Nx)\n",
    "v_g = hbar * k0 / m\n",
    "dt_2 = 0.0001\n",
    "n_2 = int(L/ 2 * m / (hbar * k0 * dt_2))\n",
    "\n",
    "x, psi_R_init,psi_I_init = make_psi_init(x0,sigmax,Nx,dt_2,L)\n",
    "psi_R , psi_I = timeEvolve(psi_R_init,psi_I_init,n_2,V,dt_2)\n",
    "plt.plot(x,psi_R)\n",
    "plt.show()"
   ]
  }
 ],
 "metadata": {
  "kernelspec": {
   "display_name": "Python 3",
   "language": "python",
   "name": "python3"
  },
  "language_info": {
   "codemirror_mode": {
    "name": "ipython",
    "version": 3
   },
   "file_extension": ".py",
   "mimetype": "text/x-python",
   "name": "python",
   "nbconvert_exporter": "python",
   "pygments_lexer": "ipython3",
   "version": "3.7.1"
  }
 },
 "nbformat": 4,
 "nbformat_minor": 2
}
