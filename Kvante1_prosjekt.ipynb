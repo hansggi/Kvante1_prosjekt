{
 "cells": [
  {
   "cell_type": "code",
   "execution_count": null,
   "metadata": {},
   "outputs": [],
   "source": [
    "import numpy as np\n",
    "from matplotlib import pyplot as plt\n",
    "import scipy.integrate"
   ]
  },
  {
   "cell_type": "code",
   "execution_count": null,
   "metadata": {},
   "outputs": [],
   "source": [
    "#constants\n",
    "hbar, m = 1, 1\n",
    "k0, L = 20, 20\n",
    "Nx = 1000 # number of x-values\n",
    "dx = L / (Nx - 1)\n",
    "sigmax = 1\n",
    "x0 = 0\n",
    "\n",
    "#Find values \n",
    "dt = 1\n",
    "E = (hbar * k0) ** 2 / 2 / m\n",
    "omega = E / hbar\n",
    "\n",
    "\n",
    "def psiI(x, t):\n",
    "    return np.exp((x - x0)*2) * np.sin(k0 * x - omega * t)\n",
    "def psiR(x,t):\n",
    "    return np.exp((x - x0)*2) * np.cos(k0 * x - omega * t)\n",
    "\n",
    "x = np.linspace(0, L, Nx)\n",
    "psiI = psiI(x, dt / 2)\n",
    "psiR = psiR(x, 0)\n",
    "\n",
    "#\n",
    "f = lambda x: x**2\n",
    "print(scipy.integrate.quad(f, 0, 1))\n",
    "#\n",
    "\n",
    "\n"
   ]
  }
 ],
 "metadata": {
  "kernelspec": {
   "display_name": "Python 3",
   "language": "python",
   "name": "python3"
  },
  "language_info": {
   "codemirror_mode": {
    "name": "ipython",
    "version": 3
   },
   "file_extension": ".py",
   "mimetype": "text/x-python",
   "name": "python",
   "nbconvert_exporter": "python",
   "pygments_lexer": "ipython3",
   "version": "3.7.1"
  }
 },
 "nbformat": 4,
 "nbformat_minor": 2
}
