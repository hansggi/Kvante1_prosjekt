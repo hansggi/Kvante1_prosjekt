{
 "cells": [
  {
   "cell_type": "code",
   "execution_count": null,
   "metadata": {},
   "outputs": [],
   "source": [
    "import numpy as np\n",
    "from matplotlib import pyplot as plt\n",
    "import scipy.integrate\n",
    "import scipy.sparse as sp"
   ]
  },
  {
   "cell_type": "code",
   "execution_count": null,
   "metadata": {},
   "outputs": [],
   "source": [
    "#constants\n",
    "hbar, m = 1, 1\n",
    "k0, L = 20, 20\n",
    "Nx = 1000 # number of x-values\n",
    "dx = L / (Nx - 1)\n",
    "sigmax = 1\n",
    "x0 = 5\n",
    "\n",
    "#Find values \n",
    "dt = 0.01\n",
    "E = (hbar * k0) ** 2 / 2 / m\n",
    "omega = E / hbar\n",
    "\n",
    "\n",
    "def psi_I(x, t):\n",
    "    return np.exp(-(x - x0)**2 / (2 * sigmax**2)) * np.sin(k0 * x - omega * t)\n",
    "                  \n",
    "def psi_R(x,t):\n",
    "    return np.exp(-(x - x0)**2 / (2 * sigmax **2)) * np.cos(k0 * x - omega * t)\n",
    "\n",
    "x = np.linspace(0, L, Nx)\n",
    "psi_I_init = psi_I(x, 0)\n",
    "psi_R_init = psi_R(x, 0)\n",
    "\n",
    "C_0 = np.trapz(psi_I(x, 0)**2 + psi_R(x, 0)**2, dx = dx)\n",
    "psi_R_init = psi_R(x, 0) / np.sqrt(C_0)\n",
    "\n",
    "C_1 = np.trapz(psi_R(x, dt/ 2)**2 + psi_R(x, dt / 2)**2, dx = dx)\n",
    "psi_I_init = psi_R(x, dt/2) / np.sqrt(C_1)\n",
    "\n",
    "print(C_0, C_1)"
   ]
  },
  {
   "cell_type": "code",
   "execution_count": null,
   "metadata": {},
   "outputs": [],
   "source": [
    "def timeEvolve(psi_R_init,psi_I_init,n,V,dt):\n",
    "    x_size = len(V)\n",
    "    \n",
    "    psi_I_arr = np.zeros([x_size,n])\n",
    "    psi_R_arr = np.zeros([x_sixe,n])\n",
    "    psi_I_arr[0] = psi_I_init\n",
    "    psi_R_arr[0] = psi_R_init\n",
    "    \n",
    "    D1 = 2 * np.ones(x_size)\n",
    "    D2 = np.ones(x_size-1)\n",
    "    H = np.diag(V) / hbar - hbar / (2 * m * dx**2) * sp.diags([D2,D1,D2],[-1,0,1]).toarray()\n",
    "    for i in range(1,n):\n",
    "        psi_R_arr[i] = psi_R_arr[i-1] + dt * H @ psi_I_arr[i-1]\n",
    "        psi_I_arr[i] = psi_I_arr[i-1] - dt * H @ psi_R_arr[i-1]\n",
    "    return psi_R_arr,psi_I_arr\n",
    "\n",
    "        "
   ]
  },
  {
   "cell_type": "code",
   "execution_count": null,
   "metadata": {},
   "outputs": [],
   "source": []
  }
 ],
 "metadata": {
  "kernelspec": {
   "display_name": "Python 3",
   "language": "python",
   "name": "python3"
  },
  "language_info": {
   "codemirror_mode": {
    "name": "ipython",
    "version": 3
   },
   "file_extension": ".py",
   "mimetype": "text/x-python",
   "name": "python",
   "nbconvert_exporter": "python",
   "pygments_lexer": "ipython3",
   "version": "3.7.1"
  }
 },
 "nbformat": 4,
 "nbformat_minor": 2
}
