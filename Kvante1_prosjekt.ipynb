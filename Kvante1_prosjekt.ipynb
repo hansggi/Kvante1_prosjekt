{
 "cells": [
  {
   "cell_type": "code",
   "execution_count": null,
   "metadata": {},
   "outputs": [],
   "source": [
    "import numpy as np\n",
    "from matplotlib import pyplot as plt\n",
    "import scipy.integrate\n",
    "import scipy.sparse as sp"
   ]
  },
  {
   "cell_type": "code",
   "execution_count": null,
   "metadata": {},
   "outputs": [],
   "source": [
    "#constants\n",
    "hbar, m = 1, 1\n",
    "k0, L = 20, 20\n",
    "E = (hbar * k0) ** 2 / 2 / m\n",
    "omega = E / hbar\n",
    "\n",
    "\n",
    "def psi_I_anal(x,x0,sigmax, t):\n",
    "    return np.exp(-(x - x0)**2 / (2 * sigmax**2)) * np.sin(k0 * x - omega * t)\n",
    "                  \n",
    "def psi_R_anal(x,x0,sigmax, t):\n",
    "    return np.exp(-(x - x0)**2 / (2 * sigmax **2)) * np.cos(k0 * x - omega * t)\n",
    "\n",
    "\n",
    "def make_psi_init(x0,sigmax,Nx,dt,L):\n",
    "    x = np.linspace(0, L, Nx)\n",
    "    C = psi_R_anal(x,x0,sigmax,0) @ psi_R_anal(x,x0,sigmax,0) + psi_I_anal(x,x0,sigmax,0) @ psi_I_anal(x,x0,sigmax,0)\n",
    "    psi_R_init = psi_R_anal(x,x0,sigmax, 0) / np.sqrt(C)\n",
    "    psi_I_init = psi_I_anal(x,x0,sigmax, -dt/2) / np.sqrt(C)\n",
    "    return x , psi_R_init, psi_I_init"
   ]
  },
  {
   "cell_type": "code",
   "execution_count": null,
   "metadata": {},
   "outputs": [],
   "source": [
    "def timeEvolve(psi_R,psi_I,n,V,dt):\n",
    "    Nx = len(V)\n",
    "    dx = L / (Nx-1)\n",
    "    \n",
    "    D1 = V / hbar + hbar / (m * dx**2) * np.ones(Nx) \n",
    "    D2 = - hbar / (2 * m * dx**2) *  np.ones(Nx-1) \n",
    "    H = sp.diags([D2, D1 ,D2],[-1,0,1])\n",
    "    for i in range(1,n):\n",
    "        psi_I = psi_I - dt * H.dot(psi_R)\n",
    "        psi_R = psi_R + dt * H.dot(psi_I)\n",
    "    return psi_R,psi_I\n",
    "\n",
    "        "
   ]
  },
  {
   "cell_type": "markdown",
   "metadata": {},
   "source": [
    "## Excercise 2\n",
    "By testing various time steps it was found that $\\varDelta T = 0.5 \\cdot \\varDelta T_0 $ with $\\varDelta T_0 := \\frac{\\hbar}{\\frac{\\hbar^2}{2m} \\frac{1}{\\varDelta X^2} + V_{max}}$ gave satisfactory numerical stability.\n",
    "\n",
    "The group velocity can be calculated using the relation $v_g = \\frac{\\partial \\omega}{\\partial k} \\rvert_{k_0}$ giving the result $v_g = \\frac{\\hbar k_0}{m}$. By propagating the wave for a time $\\frac{l}{v_g}$ the wave packet will move a distance l. Figures (XX1) and (XX2) show the wave packet after propagating a distance $l = 10$ from the start position $x_0 = 5$ for the values $\\sigma = 0.5$ and $\\sigma = 1.5$. The wave packet with initial $\\sigma = 1.5$ has a larger spread than the wave with inital $\\sigma = 0.5$. The spread is not as large as for the initial condition, ilustrating the fact that waves with a narrower probability density spread faster. "
   ]
  },
  {
   "cell_type": "code",
   "execution_count": null,
   "metadata": {},
   "outputs": [],
   "source": [
    "x0_2 = 5\n",
    "Nx_2 =1000\n",
    "V_2 = np.zeros(Nx_2)\n",
    "v_g = hbar * k0 / m\n",
    "dt_0 = hbar / ((hbar**2/(2 * m))*((Nx_2-1)/L)**2)\n",
    "dt_2 = 0.5* dt_0\n",
    "n_2 = int(L/ 2 * m / (hbar * k0 * dt_2))\n",
    "    \n",
    "dt_0 = hbar / ((hbar**2/(2 * m))*((Nx_2-1)/L)**2)\n",
    "\n",
    "sigmax_2 = 0.5\n",
    "x, psi_R_init,psi_I_init = make_psi_init(x0_2,sigmax_2,Nx_2,dt_2,L)\n",
    "psi_R , psi_I = timeEvolve(psi_R_init,psi_I_init,n_2,V_2,dt_2)\n",
    "plt.plot(x,psi_R) #endre til sannsynlighetstetthet\n",
    "plt.show()\n",
    "\n",
    "sigmax_2 = 1.5\n",
    "x, psi_R_init,psi_I_init = make_psi_init(x0_2,sigmax_2,Nx_2,dt_2,L)\n",
    "psi_R , psi_I = timeEvolve(psi_R_init,psi_I_init,n_2,V_2,dt_2)\n",
    "plt.plot(x,psi_R) #endre til sannsynlighetstetthet\n",
    "plt.show()"
   ]
  },
  {
   "cell_type": "code",
   "execution_count": null,
   "metadata": {},
   "outputs": [],
   "source": [
    "def plot_barrier(x, psi_init, psi_final, V):\n",
    "    fig, (ax1, ax2) = plt.subplots(1, 2)\n",
    "    fig.set_size_inches(20, 8)\n",
    "    \n",
    "    ax1_2 = ax1.twinx()                           \n",
    "    l1, = ax1.plot(x, V, color = \"tab:red\")\n",
    "    l1_2, = ax1_2.plot(x, psi_init)                       \n",
    "    \n",
    "    ax2_2 = ax2.twinx()\n",
    "    l2, = ax2.plot(x, V, color = \"tab:red\")                               \n",
    "    l2_2, = ax2_2.plot(x, psi_final)                "
   ]
  },
  {
   "cell_type": "code",
   "execution_count": null,
   "metadata": {},
   "outputs": [],
   "source": [
    "##Barrier, exercise 3\n",
    "n = 100\n",
    "L = 20\n",
    "l = L / 50\n",
    "b = E / 2.0\n",
    "dt = 0.001\n",
    "\n",
    "Vb = np.zeros(Nx)\n",
    "Vk = np.ones(int(l / L * Nx)) * b\n",
    "Vb[int(Nx/2 - l * Nx / L /  2): int(Nx/2 + l * Nx / L /  2) ] = Vk\n",
    "\n",
    "\n",
    "x, psi_R_init, psi_I_init = make_psi_init(x0, sigmax, Nx, dt, L)\n",
    "\n",
    "psi_R_b,psi_I_b = timeEvolve(psi_R_init, psi_I_init, n, V, dt)\n",
    "\n",
    "\n",
    "plot_barrier(x, psi_R_init, psi_R_b, V)"
   ]
  }
 ],
 "metadata": {
  "kernelspec": {
   "display_name": "Python 3",
   "language": "python",
   "name": "python3"
  },
  "language_info": {
   "codemirror_mode": {
    "name": "ipython",
    "version": 3
   },
   "file_extension": ".py",
   "mimetype": "text/x-python",
   "name": "python",
   "nbconvert_exporter": "python",
   "pygments_lexer": "ipython3",
   "version": "3.7.1"
  }
 },
 "nbformat": 4,
 "nbformat_minor": 2
}
