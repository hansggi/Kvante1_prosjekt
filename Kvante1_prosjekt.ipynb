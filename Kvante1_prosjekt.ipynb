{
 "cells": [
  {
   "cell_type": "code",
   "execution_count": 6,
   "metadata": {},
   "outputs": [],
   "source": [
    "import numpy as np\n",
    "from matplotlib import pyplot as plt\n",
    "import scipy.integrate\n",
    "import scipy.sparse as sp"
   ]
  },
  {
   "cell_type": "code",
   "execution_count": 7,
   "metadata": {},
   "outputs": [],
   "source": [
    "#constants\n",
    "hbar, m = 1, 1\n",
    "k0, L = 20, 20\n",
    "E = (hbar * k0) ** 2 / 2 / m\n",
    "omega = E / hbar\n",
    "\n",
    "\n",
    "def psi_I(x, t):\n",
    "    return np.exp(-(x - x0)**2 / (2 * sigmax**2)) * np.sin(k0 * x - omega * t)\n",
    "                  \n",
    "def psi_R(x,t):\n",
    "    return np.exp(-(x - x0)**2 / (2 * sigmax **2)) * np.cos(k0 * x - omega * t)\n",
    "\n",
    "\n",
    "def make_psi_init(x0,sigmax,Nx,dt,L):\n",
    "    x = np.linspace(0, L, Nx)\n",
    "    C = psi_R(x,0) @ psi_R(x,0) + psi_I(x,0) @ psi_I(x,0)\n",
    "    psi_R_init = psi_R(x, 0) / np.sqrt(C)\n",
    "    psi_I_init = psi_I(x, -dt/2) / np.sqrt(C)\n",
    "    return x , psi_R_init, psi_I_init"
   ]
  },
  {
   "cell_type": "code",
   "execution_count": 8,
   "metadata": {},
   "outputs": [],
   "source": [
    "def timeEvolve(psi_R,psi_I,n,V,dt):\n",
    "    Nx = len(V)\n",
    "    dx = L / (Nx-1)\n",
    "    \n",
    "    D1 = V / hbar + hbar / (m * dx**2) * np.ones(Nx) \n",
    "    D2 = - hbar / (2 * m * dx**2) *  np.ones(Nx-1) \n",
    "    H = sp.diags([D2, D1 ,D2],[-1,0,1])\n",
    "    for i in range(1,n):\n",
    "        psi_I = psi_I - dt * H.dot(psi_R)\n",
    "        psi_R = psi_R + dt * H.dot(psi_I)\n",
    "    return psi_R,psi_I\n",
    "\n",
    "        "
   ]
  },
  {
   "cell_type": "code",
   "execution_count": 10,
   "metadata": {},
   "outputs": [
    {
     "ename": "TypeError",
     "evalue": "'numpy.ndarray' object is not callable",
     "output_type": "error",
     "traceback": [
      "\u001b[1;31m---------------------------------------------------------------------------\u001b[0m",
      "\u001b[1;31mTypeError\u001b[0m                                 Traceback (most recent call last)",
      "\u001b[1;32m<ipython-input-10-5367a8e47616>\u001b[0m in \u001b[0;36m<module>\u001b[1;34m\u001b[0m\n\u001b[0;32m      7\u001b[0m \u001b[0mn_2\u001b[0m \u001b[1;33m=\u001b[0m \u001b[0mint\u001b[0m\u001b[1;33m(\u001b[0m\u001b[0mL\u001b[0m\u001b[1;33m/\u001b[0m \u001b[1;36m2\u001b[0m \u001b[1;33m*\u001b[0m \u001b[0mm\u001b[0m \u001b[1;33m/\u001b[0m \u001b[1;33m(\u001b[0m\u001b[0mhbar\u001b[0m \u001b[1;33m*\u001b[0m \u001b[0mk0\u001b[0m \u001b[1;33m*\u001b[0m \u001b[0mdt_2\u001b[0m\u001b[1;33m)\u001b[0m\u001b[1;33m)\u001b[0m\u001b[1;33m\u001b[0m\u001b[1;33m\u001b[0m\u001b[0m\n\u001b[0;32m      8\u001b[0m \u001b[1;33m\u001b[0m\u001b[0m\n\u001b[1;32m----> 9\u001b[1;33m \u001b[0mx\u001b[0m\u001b[1;33m,\u001b[0m \u001b[0mpsi_R_init\u001b[0m\u001b[1;33m,\u001b[0m\u001b[0mpsi_I_init\u001b[0m \u001b[1;33m=\u001b[0m \u001b[0mmake_psi_init\u001b[0m\u001b[1;33m(\u001b[0m\u001b[0mx0\u001b[0m\u001b[1;33m,\u001b[0m\u001b[0msigmax\u001b[0m\u001b[1;33m,\u001b[0m\u001b[0mNx\u001b[0m\u001b[1;33m,\u001b[0m\u001b[0mdt_2\u001b[0m\u001b[1;33m,\u001b[0m\u001b[0mL\u001b[0m\u001b[1;33m)\u001b[0m\u001b[1;33m\u001b[0m\u001b[1;33m\u001b[0m\u001b[0m\n\u001b[0m\u001b[0;32m     10\u001b[0m \u001b[0mpsi_R\u001b[0m \u001b[1;33m,\u001b[0m \u001b[0mpsi_I\u001b[0m \u001b[1;33m=\u001b[0m \u001b[0mtimeEvolve\u001b[0m\u001b[1;33m(\u001b[0m\u001b[0mpsi_R_init\u001b[0m\u001b[1;33m,\u001b[0m\u001b[0mpsi_I_init\u001b[0m\u001b[1;33m,\u001b[0m\u001b[0mn_2\u001b[0m\u001b[1;33m,\u001b[0m\u001b[0mV\u001b[0m\u001b[1;33m,\u001b[0m\u001b[0mdt_2\u001b[0m\u001b[1;33m)\u001b[0m\u001b[1;33m\u001b[0m\u001b[1;33m\u001b[0m\u001b[0m\n\u001b[0;32m     11\u001b[0m \u001b[0mplt\u001b[0m\u001b[1;33m.\u001b[0m\u001b[0mplot\u001b[0m\u001b[1;33m(\u001b[0m\u001b[0mx\u001b[0m\u001b[1;33m,\u001b[0m\u001b[0mpsi_R\u001b[0m\u001b[1;33m)\u001b[0m\u001b[1;33m\u001b[0m\u001b[1;33m\u001b[0m\u001b[0m\n",
      "\u001b[1;32m<ipython-input-7-afdf6ccbcf49>\u001b[0m in \u001b[0;36mmake_psi_init\u001b[1;34m(x0, sigmax, Nx, dt, L)\u001b[0m\n\u001b[0;32m     15\u001b[0m \u001b[1;32mdef\u001b[0m \u001b[0mmake_psi_init\u001b[0m\u001b[1;33m(\u001b[0m\u001b[0mx0\u001b[0m\u001b[1;33m,\u001b[0m\u001b[0msigmax\u001b[0m\u001b[1;33m,\u001b[0m\u001b[0mNx\u001b[0m\u001b[1;33m,\u001b[0m\u001b[0mdt\u001b[0m\u001b[1;33m,\u001b[0m\u001b[0mL\u001b[0m\u001b[1;33m)\u001b[0m\u001b[1;33m:\u001b[0m\u001b[1;33m\u001b[0m\u001b[1;33m\u001b[0m\u001b[0m\n\u001b[0;32m     16\u001b[0m     \u001b[0mx\u001b[0m \u001b[1;33m=\u001b[0m \u001b[0mnp\u001b[0m\u001b[1;33m.\u001b[0m\u001b[0mlinspace\u001b[0m\u001b[1;33m(\u001b[0m\u001b[1;36m0\u001b[0m\u001b[1;33m,\u001b[0m \u001b[0mL\u001b[0m\u001b[1;33m,\u001b[0m \u001b[0mNx\u001b[0m\u001b[1;33m)\u001b[0m\u001b[1;33m\u001b[0m\u001b[1;33m\u001b[0m\u001b[0m\n\u001b[1;32m---> 17\u001b[1;33m     \u001b[0mC\u001b[0m \u001b[1;33m=\u001b[0m \u001b[0mpsi_R\u001b[0m\u001b[1;33m(\u001b[0m\u001b[0mx\u001b[0m\u001b[1;33m,\u001b[0m\u001b[1;36m0\u001b[0m\u001b[1;33m)\u001b[0m \u001b[1;33m@\u001b[0m \u001b[0mpsi_R\u001b[0m\u001b[1;33m(\u001b[0m\u001b[0mx\u001b[0m\u001b[1;33m,\u001b[0m\u001b[1;36m0\u001b[0m\u001b[1;33m)\u001b[0m \u001b[1;33m+\u001b[0m \u001b[0mpsi_I\u001b[0m\u001b[1;33m(\u001b[0m\u001b[0mx\u001b[0m\u001b[1;33m,\u001b[0m\u001b[1;36m0\u001b[0m\u001b[1;33m)\u001b[0m \u001b[1;33m@\u001b[0m \u001b[0mpsi_I\u001b[0m\u001b[1;33m(\u001b[0m\u001b[0mx\u001b[0m\u001b[1;33m,\u001b[0m\u001b[1;36m0\u001b[0m\u001b[1;33m)\u001b[0m\u001b[1;33m\u001b[0m\u001b[1;33m\u001b[0m\u001b[0m\n\u001b[0m\u001b[0;32m     18\u001b[0m     \u001b[0mpsi_R_init\u001b[0m \u001b[1;33m=\u001b[0m \u001b[0mpsi_R\u001b[0m\u001b[1;33m(\u001b[0m\u001b[0mx\u001b[0m\u001b[1;33m,\u001b[0m \u001b[1;36m0\u001b[0m\u001b[1;33m)\u001b[0m \u001b[1;33m/\u001b[0m \u001b[0mnp\u001b[0m\u001b[1;33m.\u001b[0m\u001b[0msqrt\u001b[0m\u001b[1;33m(\u001b[0m\u001b[0mC\u001b[0m\u001b[1;33m)\u001b[0m\u001b[1;33m\u001b[0m\u001b[1;33m\u001b[0m\u001b[0m\n\u001b[0;32m     19\u001b[0m     \u001b[0mpsi_I_init\u001b[0m \u001b[1;33m=\u001b[0m \u001b[0mpsi_I\u001b[0m\u001b[1;33m(\u001b[0m\u001b[0mx\u001b[0m\u001b[1;33m,\u001b[0m \u001b[1;33m-\u001b[0m\u001b[0mdt\u001b[0m\u001b[1;33m/\u001b[0m\u001b[1;36m2\u001b[0m\u001b[1;33m)\u001b[0m \u001b[1;33m/\u001b[0m \u001b[0mnp\u001b[0m\u001b[1;33m.\u001b[0m\u001b[0msqrt\u001b[0m\u001b[1;33m(\u001b[0m\u001b[0mC\u001b[0m\u001b[1;33m)\u001b[0m\u001b[1;33m\u001b[0m\u001b[1;33m\u001b[0m\u001b[0m\n",
      "\u001b[1;31mTypeError\u001b[0m: 'numpy.ndarray' object is not callable"
     ]
    }
   ],
   "source": [
    "x0 = 5\n",
    "sigmax = 1\n",
    "Nx = 2000\n",
    "V = np.zeros(Nx)\n",
    "v_g = hbar * k0 / m\n",
    "dt_2 = 0.0001\n",
    "n_2 = int(L/ 2 * m / (hbar * k0 * dt_2))\n",
    "\n",
    "x, psi_R_init,psi_I_init = make_psi_init(x0,sigmax,Nx,dt_2,L)\n",
    "psi_R , psi_I = timeEvolve(psi_R_init,psi_I_init,n_2,V,dt_2)\n",
    "plt.plot(x,psi_R)\n",
    "plt.show()"
   ]
  }
 ],
 "metadata": {
  "kernelspec": {
   "display_name": "Python 3",
   "language": "python",
   "name": "python3"
  },
  "language_info": {
   "codemirror_mode": {
    "name": "ipython",
    "version": 3
   },
   "file_extension": ".py",
   "mimetype": "text/x-python",
   "name": "python",
   "nbconvert_exporter": "python",
   "pygments_lexer": "ipython3",
   "version": "3.7.1"
  }
 },
 "nbformat": 4,
 "nbformat_minor": 2
}
